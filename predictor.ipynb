{
  "nbformat": 4,
  "nbformat_minor": 0,
  "metadata": {
    "colab": {
      "provenance": []
    },
    "kernelspec": {
      "name": "python3",
      "display_name": "Python 3"
    },
    "language_info": {
      "name": "python"
    }
  },
  "cells": [
    {
      "cell_type": "code",
      "source": [
        "!pip install pandas"
      ],
      "metadata": {
        "colab": {
          "base_uri": "https://localhost:8080/"
        },
        "id": "wFaXlIqkEKoY",
        "outputId": "36cfec9c-d3a1-4875-d322-6d7828f3c64d"
      },
      "execution_count": 1,
      "outputs": [
        {
          "output_type": "stream",
          "name": "stdout",
          "text": [
            "Requirement already satisfied: pandas in /usr/local/lib/python3.10/dist-packages (1.5.3)\n",
            "Requirement already satisfied: python-dateutil>=2.8.1 in /usr/local/lib/python3.10/dist-packages (from pandas) (2.8.2)\n",
            "Requirement already satisfied: pytz>=2020.1 in /usr/local/lib/python3.10/dist-packages (from pandas) (2022.7.1)\n",
            "Requirement already satisfied: numpy>=1.21.0 in /usr/local/lib/python3.10/dist-packages (from pandas) (1.22.4)\n",
            "Requirement already satisfied: six>=1.5 in /usr/local/lib/python3.10/dist-packages (from python-dateutil>=2.8.1->pandas) (1.16.0)\n"
          ]
        }
      ]
    },
    {
      "cell_type": "code",
      "source": [
        "import pandas as pd\n",
        "from google.colab import drive\n",
        "\n",
        "# Authenticate and mount Google Drive\n",
        "drive.mount('/content/drive')"
      ],
      "metadata": {
        "colab": {
          "base_uri": "https://localhost:8080/"
        },
        "id": "D0286I-SERq7",
        "outputId": "4f9dc621-2ccc-4487-ba74-852bc53ef631"
      },
      "execution_count": 2,
      "outputs": [
        {
          "output_type": "stream",
          "name": "stdout",
          "text": [
            "Mounted at /content/drive\n"
          ]
        }
      ]
    },
    {
      "cell_type": "code",
      "source": [
        "import math\n",
        "import numpy as np\n",
        "\n",
        "#thanks chat gpt\n",
        "def calculate_distance(num1, num2):\n",
        "    grid = {\n",
        "        1: (0, 0),\n",
        "        2: (1, 0),\n",
        "        3: (2, 0),\n",
        "        4: (0, 1),\n",
        "        5: (1, 1),\n",
        "        6: (2, 1),\n",
        "        7: (0, 2),\n",
        "        8: (1, 2),\n",
        "        9: (2, 2)\n",
        "    }\n",
        "\n",
        "    x1, y1 = grid[num1]\n",
        "    x2, y2 = grid[num2]\n",
        "    distance = math.sqrt((x2 - x1) ** 2 + (y2 - y1) ** 2)\n",
        "    return round(distance, 3)"
      ],
      "metadata": {
        "id": "043OxabU4qBt"
      },
      "execution_count": 3,
      "outputs": []
    },
    {
      "cell_type": "code",
      "source": [
        "# Original\n",
        "dist2time = {\n",
        "    0.0 : 0,\n",
        "    1.0 : 10,\n",
        "    1.414 : 22,\n",
        "    2.0 : 15,\n",
        "    2.236 : 34,\n",
        "    2.828 : 25}\n",
        "\n",
        "#Average\n",
        "#dist2time = {\n",
        "#    0.0 : 0,\n",
        "#    1.0 : 11.8,\n",
        "#    1.414 : 32.8,\n",
        "#    2.0 : 14.9,\n",
        "#    2.236 : 15.8,\n",
        "#    2.828 : 22.8}\n",
        "\n",
        "#Worst\n",
        "#dist2time = {\n",
        "#    0.0 : 0,\n",
        "#    1.0 : 19,\n",
        "#    1.414 : 33,\n",
        "#    2.0 : 23,\n",
        "#    2.236 : 25,\n",
        "#   2.828 : 25}"
      ],
      "metadata": {
        "id": "D65lUcaQ-xuB"
      },
      "execution_count": 5,
      "outputs": []
    },
    {
      "cell_type": "code",
      "source": [
        "from itertools import permutations\n",
        "\n",
        "def generate_ordered_subsets(s):\n",
        "    subsets = []\n",
        "    n = len(s)\n",
        "    for r in range(1, n + 1):\n",
        "        subsets.extend(permutations(s, r))\n",
        "    return subsets"
      ],
      "metadata": {
        "id": "K4cPxRfARBuN"
      },
      "execution_count": 6,
      "outputs": []
    },
    {
      "cell_type": "code",
      "source": [
        "def compute_score(path, printOutputs=False):\n",
        "  nums = [] # array for active sites\n",
        "  ops = [] #operations\n",
        "\n",
        "  battery_coefficient = 0.2 # battery coefficient means how fast battery is used\n",
        "\n",
        "  index = 0 # puts operations into ops and numbers into nums\n",
        "  for i in range(0, len(path)//2):\n",
        "    ops.append(path[index])\n",
        "    nums.append(path[index+1])\n",
        "    index += 2\n",
        "\n",
        "  #from base to first site\n",
        "  distance = calculate_distance(5, int(nums[0]))  # this calculates the distance from base to the first site.\n",
        "  total_distance = distance # The distance you have moved so far\n",
        "  time_spent = dist2time[distance] + 20 #moving and collecting\n",
        "  battery_used = battery_coefficient * distance #not carrying anything\n",
        "  collected = 0 # collected is the number of samples you have\n",
        "  if ops[0] == '+': # if the operation is addition then you add that number to to collected\n",
        "      collected += int(nums[0])\n",
        "  elif ops[0] == '*': # if you don't do addition then you multiply that number by collected\n",
        "      collected *= 0\n",
        "\n",
        "  #rest of sites\n",
        "  for i in range(1, len(nums)):\n",
        "    distance = calculate_distance(int(nums[i-1]), int(nums[i])) # this calculates the distance from the first site to the seceond site\n",
        "    total_distance += distance # this adds the distance you moved to the distance you just moved\n",
        "    time_spent += dist2time[distance] # uses the distance to find the time spent\n",
        "    battery_used += battery_coefficient * distance * (1 + collected) # used the distance and coefficient to find battery spent\n",
        "    if ops[i] == '+': # if the operation is addition then you add that number to to collected\n",
        "      collected += int(nums[i])\n",
        "    elif ops[i] == '*':# if you don't do addition then you multiply that number by collected\n",
        "      collected *= int(nums[i])\n",
        "    time_spent += 20\n",
        "\n",
        "  #from last site to base\n",
        "  distance = calculate_distance(int(nums[-1]), 5) # calculates the distance from the seceond site to the third\n",
        "  total_distance += distance # adds the currant distance to the distance you just moved\n",
        "  time_spent += dist2time[distance] + 20 # uses the distance to find the amount of time you spent\n",
        "  battery_used += battery_coefficient * distance * (1 + collected) # calculates the battery used with the distance\n",
        "\n",
        "  #calculate final score\n",
        "  collection_score = collected\n",
        "  collection_bonus = 0\n",
        "  collection_penalty = 0\n",
        "  inactive_penalty = 0\n",
        "  if collected > 24:\n",
        "    collection_penalty = abs(24 - collected) # if you have more than 24 samples then there is a penalty\n",
        "  elif collected == 24:\n",
        "    collection_bonus = 10 # if you collected 24 samples then you get a collection bonus of 10\n",
        "  elif collected == 0:\n",
        "    inactive_penalty = 10\n",
        "# This finds the battery score using the the battery penalty\n",
        "  battery_penalty = 0\n",
        "  battery_score = 100 - battery_used #  100 is the battery you start with at the beginning so this does 100 - the battery that you used\n",
        "  if battery_score < 0: # what this does is if you battery score is less then 0, then there is a penalty⬇\n",
        "    battery_penalty = abs(battery_score) * 2\n",
        "\n",
        "  time_score = 180 - time_spent # we have 180 seceonds to complete the game so this subracts our time spent from 180\n",
        "\n",
        "  total_score = 0.5 * battery_score + 0.05 * time_score + collection_score - (collection_penalty + battery_penalty + inactive_penalty) + collection_bonus #formula for total score\n",
        "  if printOutputs: # prints out the score\n",
        "    print(\"battery score: \", battery_score) #  battery score\n",
        "    print(\"time score: \", time_score) #  time score\n",
        "    print(\"collection score: \", collection_score) # collection score\n",
        "    print(\"collection penalty: \", collection_penalty) # collection penalty. If you go over 24 samples then there is a penalty\n",
        "    print(\"battery penalty: \", battery_penalty) # battery penalty. The more battery you use, the less score\n",
        "    print(\"inactive penalty: \", inactive_penalty) # inactive penalty\n",
        "    print(\"collection bonus: \", collection_bonus) # collection bonus\n",
        "    print(\"total score: \", total_score) # total score\n",
        "  return total_score"
      ],
      "metadata": {
        "id": "riwiUYc3ZmU5"
      },
      "execution_count": 10,
      "outputs": []
    },
    {
      "cell_type": "code",
      "source": [
        "compute_score(\"+4*4+8\", True)"
      ],
      "metadata": {
        "id": "BzK89OUs9mpR",
        "colab": {
          "base_uri": "https://localhost:8080/"
        },
        "outputId": "13c4ab0f-5a28-47f6-f1e0-1a4fad4fb18b"
      },
      "execution_count": 11,
      "outputs": [
        {
          "output_type": "stream",
          "name": "stdout",
          "text": [
            "battery score:  89.9924\n",
            "time score:  58\n",
            "collection score:  24\n",
            "collection penalty:  0\n",
            "battery penalty:  0\n",
            "inactive penalty:  0\n",
            "collection bonus:  10\n",
            "total score:  81.8962\n"
          ]
        },
        {
          "output_type": "execute_result",
          "data": {
            "text/plain": [
              "81.8962"
            ]
          },
          "metadata": {},
          "execution_count": 11
        }
      ]
    },
    {
      "cell_type": "code",
      "source": [
        "compute_score(\"+3*6+6\", True)"
      ],
      "metadata": {
        "colab": {
          "base_uri": "https://localhost:8080/"
        },
        "id": "K9CCakG-gFvj",
        "outputId": "75b501d0-0b64-42c8-8256-5cc4ce45c97e"
      },
      "execution_count": 12,
      "outputs": [
        {
          "output_type": "stream",
          "name": "stdout",
          "text": [
            "battery score:  93.9172\n",
            "time score:  58\n",
            "collection score:  24\n",
            "collection penalty:  0\n",
            "battery penalty:  0\n",
            "inactive penalty:  0\n",
            "collection bonus:  10\n",
            "total score:  83.8586\n"
          ]
        },
        {
          "output_type": "execute_result",
          "data": {
            "text/plain": [
              "83.8586"
            ]
          },
          "metadata": {},
          "execution_count": 12
        }
      ]
    },
    {
      "cell_type": "code",
      "source": [
        "#This function computes the best possible path based on the available sites.\n",
        "#In the for loop, it goes through each of the three numbers and puts in every possible action for each number.\n",
        "#Using the Generate_Ordered_Subsetsfunction it generates all of the possible orders all the three numbers can be in.\n",
        "#Total viable paths makes an array that holds all of the paths that will work.\n",
        "#\n",
        "\n",
        "# takes string of sites like \"2 4 7\"\n",
        "def predictor(path):\n",
        "  # list all possible actions\n",
        "  extended_paths = []\n",
        "  for item in path:\n",
        "    if item.isdigit():\n",
        "      extended_paths.append(\"+\" + str(item))\n",
        "      extended_paths.append(\"*\" + str(item))\n",
        "  # for example \"+2*2+4*4+7*7\"\n",
        "\n",
        "  # Generate different paths\n",
        "  total_extended_paths = generate_ordered_subsets(extended_paths)\n",
        "  total_extended_paths_strings = [''.join(t) for t in total_extended_paths]\n",
        "\n",
        "  # paths that are possible\n",
        "  total_viable_paths = []\n",
        "  for token in total_extended_paths_strings:\n",
        "    val = 0\n",
        "    # 0, 2, 4...\n",
        "    for i in range(0, len(token), 2):\n",
        "      # add i\n",
        "      if token[i] == '+':\n",
        "        val += int(token[i+1])\n",
        "      # multiply by i\n",
        "      else:\n",
        "        val *= int(token[i+1])\n",
        "    if val <= 24:\n",
        "      total_viable_paths.append(token)\n",
        "\n",
        "  bestpath = \"\"\n",
        "  # max score so far\n",
        "  max_score = -1\n",
        "  # for each path\n",
        "  for path_item in total_viable_paths:\n",
        "    # if the score is greater than the best score so far\n",
        "    if compute_score(path_item) > max_score:\n",
        "      # update score and path\n",
        "      max_score = compute_score(path_item)\n",
        "      bestpath = path_item\n",
        "\n",
        "  return path, bestpath, max_score"
      ],
      "metadata": {
        "id": "q3zPvkuXw64s"
      },
      "execution_count": 14,
      "outputs": []
    },
    {
      "cell_type": "code",
      "source": [
        "print(predictor(\"2 4 7\"))"
      ],
      "metadata": {
        "colab": {
          "base_uri": "https://localhost:8080/"
        },
        "id": "XFtXd9neMDIs",
        "outputId": "172c08af-0564-412b-b421-b2041046cb2b"
      },
      "execution_count": 15,
      "outputs": [
        {
          "output_type": "stream",
          "name": "stdout",
          "text": [
            "('2 4 7', '+2+4*4', 83.8758)\n"
          ]
        }
      ]
    },
    {
      "cell_type": "code",
      "source": [
        "print(predictor(\"1 4 5\"))"
      ],
      "metadata": {
        "colab": {
          "base_uri": "https://localhost:8080/"
        },
        "id": "sx4WkzG_n_zN",
        "outputId": "2470c8e2-3924-4eb2-99ca-27b67448091a"
      },
      "execution_count": 19,
      "outputs": [
        {
          "output_type": "stream",
          "name": "stdout",
          "text": [
            "('1 4 5', '+5*4+4', 84.9)\n"
          ]
        }
      ]
    },
    {
      "cell_type": "code",
      "source": [
        "print(predictor(\"2 3 7\"))"
      ],
      "metadata": {
        "colab": {
          "base_uri": "https://localhost:8080/"
        },
        "id": "88yQMoyHoGb1",
        "outputId": "c1607527-30e1-4885-b60e-b3153fd95e93"
      },
      "execution_count": 20,
      "outputs": [
        {
          "output_type": "stream",
          "name": "stdout",
          "text": [
            "('2 3 7', '+3*2+2*3', 79.8236)\n"
          ]
        }
      ]
    },
    {
      "cell_type": "code",
      "source": [
        "# Specify the file path\n",
        "file_path = '/content/drive/MyDrive/Colab Notebooks/Active Site Data.xlsx'\n",
        "# Read the Excel file\n",
        "data_frame = pd.read_excel(file_path)\n",
        "\n",
        "for index, row in data_frame.iterrows():\n",
        "    # Access individual row values using row['column_name']\n",
        "    path = row['First'], row['Second'], row['Third']\n",
        "    print(predictor(str(path[0]) + \" \" + str(path[1]) + \" \" + str(path[2])))\n",
        "# Display the data\n",
        "#print(data_frame)"
      ],
      "metadata": {
        "colab": {
          "base_uri": "https://localhost:8080/"
        },
        "id": "HEYKMW6yEyHV",
        "outputId": "2703cf99-e320-4b87-a419-a6b87becf1dd"
      },
      "execution_count": 17,
      "outputs": [
        {
          "output_type": "stream",
          "name": "stdout",
          "text": [
            "('1 2 3', '+1+3*3*2', 80.8086)\n",
            "('1 2 4', '+2+4*4', 83.8758)\n",
            "('1 2 6', '+2*2*6', 83.59299999999999)\n",
            "('1 2 8', '+2*8+8', 84.05)\n",
            "('1 2 9', '+9+1+2*2', 78.0806)\n",
            "('1 3 4', '+4+1+3*3', 79.815)\n",
            "('1 3 5', '+5+3*3', 82.41659999999999)\n",
            "('1 3 6', '+3*6+6', 83.8586)\n",
            "('1 3 7', '+7*3+3', 79.6112)\n",
            "('1 3 8', '+3*8', 83.1642)\n",
            "('1 4 5', '+5*4+4', 84.9)\n",
            "('1 4 6', '+4*6', 84.65)\n",
            "('1 4 7', '+4*4+1+7', 76.215)\n",
            "('1 4 8', '+4*4+8', 81.8962)\n",
            "('1 6 9', '+1*9+9+6', 79.543)\n",
            "('2 3 4', '+2+4*4', 83.8758)\n",
            "('2 3 5', '+5+3*3', 82.41659999999999)\n",
            "('2 3 6', '+3*6+6', 83.8586)\n",
            "('2 3 7', '+3*2+2*3', 79.8236)\n",
            "('2 3 8', '+2*8+8', 84.05)\n",
            "('2 3 9', '+9+3*2', 80.20859999999999)\n",
            "('2 4 5', '+5*4+4', 84.9)\n",
            "('2 4 6', '+4*6', 84.65)\n",
            "('2 4 7', '+2+4*4', 83.8758)\n",
            "('2 4 8', '+2*8+8', 84.05)\n",
            "('2 4 9', '+2+4*4', 83.8758)\n",
            "('2 5 6', '+2*2*6', 83.59299999999999)\n",
            "('2 5 7', '+7+5*2', 80.72739999999999)\n",
            "('2 5 8', '+2*8+8', 84.05)\n",
            "('2 6 7', '+2*2*6', 83.59299999999999)\n",
            "('2 6 8', '+2*8+8', 84.05)\n",
            "('2 6 9', '+2*2*6', 83.59299999999999)\n",
            "('2 7 8', '+2*8+8', 84.05)\n",
            "('2 8 9', '+2*8+8', 84.05)\n",
            "('3 4 5', '+5*4+4', 84.9)\n",
            "('3 4 6', '+4*6', 84.65)\n",
            "('3 4 7', '+7*3+3', 79.6112)\n",
            "('3 4 8', '+3*8', 83.1642)\n",
            "('3 4 9', '+4*3+3+9', 75.997)\n",
            "('3 5 6', '+3*6+6', 83.8586)\n",
            "('3 5 7', '+5+3*3', 82.41659999999999)\n",
            "('3 5 8', '+3*8', 83.1642)\n",
            "('3 5 9', '+5+3*3', 82.41659999999999)\n",
            "('3 6 7', '+3*6+6', 83.8586)\n",
            "('3 6 8', '+3*6+6', 83.8586)\n",
            "('3 6 9', '+3*6+6', 83.8586)\n",
            "('3 7 8', '+3*8', 83.1642)\n",
            "('3 7 9', '+7*3+3', 79.6112)\n",
            "('3 8 9', '+3*8', 83.1642)\n",
            "('4 5 6', '+5*4+4', 84.9)\n",
            "('4 5 7', '+5*4+4', 84.9)\n",
            "('4 5 8', '+5*4+4', 84.9)\n",
            "('4 5 9', '+5*4+4', 84.9)\n",
            "('4 6 7', '+4*6', 84.65)\n",
            "('4 6 8', '+4*6', 84.65)\n",
            "('4 6 9', '+4*6', 84.65)\n",
            "('4 7 8', '+4*4+8', 81.8962)\n",
            "('4 8 9', '+4*4+8', 81.8962)\n",
            "('7 8 9', '+7+9+8', 80.20859999999999)\n"
          ]
        }
      ]
    }
  ]
}