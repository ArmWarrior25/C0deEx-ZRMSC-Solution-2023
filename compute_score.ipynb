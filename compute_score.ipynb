{
  "nbformat": 4,
  "nbformat_minor": 0,
  "metadata": {
    "colab": {
      "provenance": []
    },
    "kernelspec": {
      "name": "python3",
      "display_name": "Python 3"
    },
    "language_info": {
      "name": "python"
    }
  },
  "cells": [
    {
      "cell_type": "code",
      "source": [
        "import math\n",
        "import numpy as np\n",
        "\n",
        "#thanks chat gpt\n",
        "def calculate_distance(num1, num2):\n",
        "    grid = {\n",
        "        1: (0, 0),\n",
        "        2: (1, 0),\n",
        "        3: (2, 0),\n",
        "        4: (0, 1),\n",
        "        5: (1, 1),\n",
        "        6: (2, 1),\n",
        "        7: (0, 2),\n",
        "        8: (1, 2),\n",
        "        9: (2, 2)\n",
        "    }\n",
        "\n",
        "    x1, y1 = grid[num1]\n",
        "    x2, y2 = grid[num2]\n",
        "    distance = math.sqrt((x2 - x1) ** 2 + (y2 - y1) ** 2)\n",
        "    return round(distance, 3)"
      ],
      "metadata": {
        "id": "043OxabU4qBt"
      },
      "execution_count": 2,
      "outputs": []
    },
    {
      "cell_type": "code",
      "source": [
        "#dist2time = {\n",
        "#    0.0 : 0,\n",
        "#    1.0 : 10,\n",
        "#    1.414 : 22,\n",
        "#    2.0 : 15,\n",
        "#    2.236 : 34,\n",
        "#    2.828 : 25}"
      ],
      "metadata": {
        "id": "D65lUcaQ-xuB"
      },
      "execution_count": 3,
      "outputs": []
    },
    {
      "cell_type": "code",
      "source": [
        "dist2time = {\n",
        "    0.0 : 0,\n",
        "    1.0 : 10,\n",
        "    1.414 : 20,\n",
        "    2.0 : 14,\n",
        "    2.236 : 15,\n",
        "    2.828 : 22}"
      ],
      "metadata": {
        "id": "p-KJS_jMNlIj"
      },
      "execution_count": 4,
      "outputs": []
    },
    {
      "cell_type": "code",
      "source": [
        "def compute_score(path, printOutputs=False):\n",
        "  nums = [] # array for active sites\n",
        "  ops = [] #operations\n",
        "\n",
        "  battery_coefficient = 0.2 # battery coefficient means how fast battery is used\n",
        "\n",
        "  index = 0 # puts operations into ops and numbers into nums\n",
        "  for i in range(0, len(path)//2):\n",
        "    ops.append(path[index])\n",
        "    nums.append(path[index+1])\n",
        "    index += 2\n",
        "\n",
        "  #from base to first site\n",
        "  distance = calculate_distance(5, int(nums[0]))  # this calculates the distance from base to the first site.\n",
        "  total_distance = distance # The distance you have moved so far\n",
        "  time_spent = dist2time[distance] + 20 #moving and collecting\n",
        "  battery_used = battery_coefficient * distance #not carrying anything\n",
        "  collected = 0 # collected is the number of samples you have\n",
        "  if ops[0] == '+': # if the operation is addition then you add that number to to collected\n",
        "      collected += int(nums[0])\n",
        "  elif ops[0] == '*': # if you don't do addition then you multiply that number by collected\n",
        "      collected *= 0\n",
        "\n",
        "  #rest of sites\n",
        "  for i in range(1, len(nums)):\n",
        "    distance = calculate_distance(int(nums[i-1]), int(nums[i])) # this calculates the distance from the first site to the seceond site\n",
        "    total_distance += distance # this adds the distance you moved to the distance you just moved\n",
        "    time_spent += dist2time[distance] # uses the distance to find the time spent\n",
        "    battery_used += battery_coefficient * distance * (1 + collected) # used the distance and coefficient to find battery spent\n",
        "    if ops[i] == '+': # if the operation is addition then you add that number to to collected\n",
        "      collected += int(nums[i])\n",
        "    elif ops[i] == '*':# if you don't do addition then you multiply that number by collected\n",
        "      collected *= int(nums[i])\n",
        "    time_spent += 20\n",
        "\n",
        "  #from last site to base\n",
        "  distance = calculate_distance(int(nums[-1]), 5) # calculates the distance from the seceond site to the third\n",
        "  total_distance += distance # adds the currant distance to the distance you just moved\n",
        "  time_spent += dist2time[distance] + 20 # uses the distance to find the amount of time you spent\n",
        "  battery_used += battery_coefficient * distance * (1 + collected) # calculates the battery used with the distance\n",
        "\n",
        "  #calculate final score\n",
        "  collection_score = collected\n",
        "  collection_bonus = 0\n",
        "  collection_penalty = 0\n",
        "  inactive_penalty = 0\n",
        "  if collected > 24:\n",
        "    collection_penalty = abs(24 - collected) # if you have more than 24 samples tnen there is a penalty\n",
        "  elif collected == 24:\n",
        "    collection_bonus = 10 # if you collected 24 samples then you get a collection bonus of 10\n",
        "  elif collected == 0:\n",
        "    inactive_penalty = 10\n",
        "# This finds the battery score using the the battery penalty\n",
        "  battery_penalty = 0\n",
        "  battery_score = 100 - battery_used #  100 is the battery you start with at the beginning so this does 100 - the battery that you used\n",
        "  if battery_score < 0: # what this does is if you battery score is less then 0, then there is a penalty⬇\n",
        "    battery_penalty = abs(battery_score) * 2\n",
        "\n",
        "  time_score = 180 - time_spent # we have 180 seceonds to complete the game so this subracts our time spent from 180\n",
        "\n",
        "  total_score = 0.5 * battery_score + 0.05 * time_score + collection_score - (collection_penalty + battery_penalty + inactive_penalty) + collection_bonus #formula for total score\n",
        "  if printOutputs: # prints out the score\n",
        "    print(\"battery score: \", battery_score) #  battery score\n",
        "    print(\"time score: \", time_score) #  time score\n",
        "    print(\"collection score: \", collection_score) # collection score\n",
        "    print(\"collection penalty: \", collection_penalty) # collection penalty. If you go over 24 samples then there is a penalty\n",
        "    print(\"battery penalty: \", battery_penalty) # battery penalty. The more battery you use, the less score\n",
        "    print(\"inactive penalty: \", inactive_penalty) # inactive penalty\n",
        "    print(\"collection bonus: \", collection_bonus) # collection bonus\n",
        "    print(\"total score: \", total_score) # total score\n",
        "  return total_score"
      ],
      "metadata": {
        "id": "02VwJJDvJDo4"
      },
      "execution_count": 11,
      "outputs": []
    },
    {
      "cell_type": "code",
      "source": [
        "compute_score(\"+4*6\", True)"
      ],
      "metadata": {
        "colab": {
          "base_uri": "https://localhost:8080/"
        },
        "id": "FuxWqcJKklOF",
        "outputId": "5cd4c650-ab98-4fdd-8b75-a60c94562bb5"
      },
      "execution_count": 13,
      "outputs": [
        {
          "output_type": "stream",
          "name": "stdout",
          "text": [
            "battery score:  92.8\n",
            "time score:  86\n",
            "collection score:  24\n",
            "collection penalty:  0\n",
            "battery penalty:  0\n",
            "inactive penalty:  0\n",
            "collection bonus:  10\n",
            "total score:  84.69999999999999\n"
          ]
        },
        {
          "output_type": "execute_result",
          "data": {
            "text/plain": [
              "84.69999999999999"
            ]
          },
          "metadata": {},
          "execution_count": 13
        }
      ]
    },
    {
      "cell_type": "code",
      "source": [
        "compute_score(\"+2*2*6\", True)"
      ],
      "metadata": {
        "colab": {
          "base_uri": "https://localhost:8080/"
        },
        "id": "15McLIETksyl",
        "outputId": "7d910ac0-f1da-4f33-ecbd-7dcbe86fa68f"
      },
      "execution_count": 14,
      "outputs": [
        {
          "output_type": "stream",
          "name": "stdout",
          "text": [
            "battery score:  93.386\n",
            "time score:  60\n",
            "collection score:  24\n",
            "collection penalty:  0\n",
            "battery penalty:  0\n",
            "inactive penalty:  0\n",
            "collection bonus:  10\n",
            "total score:  83.693\n"
          ]
        },
        {
          "output_type": "execute_result",
          "data": {
            "text/plain": [
              "83.693"
            ]
          },
          "metadata": {},
          "execution_count": 14
        }
      ]
    },
    {
      "cell_type": "code",
      "source": [
        "compute_score(\"+5*4+4\", True)"
      ],
      "metadata": {
        "colab": {
          "base_uri": "https://localhost:8080/"
        },
        "id": "DyA9aB7wlKi8",
        "outputId": "02aaae60-e098-4214-c770-59fa9e5e5eb3"
      },
      "execution_count": 15,
      "outputs": [
        {
          "output_type": "stream",
          "name": "stdout",
          "text": [
            "battery score:  93.8\n",
            "time score:  80\n",
            "collection score:  24\n",
            "collection penalty:  0\n",
            "battery penalty:  0\n",
            "inactive penalty:  0\n",
            "collection bonus:  10\n",
            "total score:  84.9\n"
          ]
        },
        {
          "output_type": "execute_result",
          "data": {
            "text/plain": [
              "84.9"
            ]
          },
          "metadata": {},
          "execution_count": 15
        }
      ]
    },
    {
      "cell_type": "code",
      "source": [
        "compute_score(\"+7*3+3\", True)"
      ],
      "metadata": {
        "colab": {
          "base_uri": "https://localhost:8080/"
        },
        "id": "RKG0ZnrClnXl",
        "outputId": "057d2f29-f8fb-4660-9d38-a8edc94e132e"
      },
      "execution_count": 17,
      "outputs": [
        {
          "output_type": "stream",
          "name": "stdout",
          "text": [
            "battery score:  88.1224\n",
            "time score:  38\n",
            "collection score:  24\n",
            "collection penalty:  0\n",
            "battery penalty:  0\n",
            "inactive penalty:  0\n",
            "collection bonus:  10\n",
            "total score:  79.96119999999999\n"
          ]
        },
        {
          "output_type": "execute_result",
          "data": {
            "text/plain": [
              "79.96119999999999"
            ]
          },
          "metadata": {},
          "execution_count": 17
        }
      ]
    },
    {
      "cell_type": "code",
      "source": [],
      "metadata": {
        "id": "TxO4udh3lqJt"
      },
      "execution_count": null,
      "outputs": []
    }
  ]
}